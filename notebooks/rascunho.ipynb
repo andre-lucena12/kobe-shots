{
 "cells": [
  {
   "cell_type": "code",
   "execution_count": 16,
   "metadata": {},
   "outputs": [],
   "source": [
    "import pandas as pd"
   ]
  },
  {
   "cell_type": "code",
   "execution_count": null,
   "metadata": {},
   "outputs": [],
   "source": [
    "data = pd.read_csv('../data/01_raw/data.csv')\n",
    "data"
   ]
  },
  {
   "cell_type": "code",
   "execution_count": 7,
   "metadata": {},
   "outputs": [],
   "source": [
    "separador = '2PT Field Goal'\n",
    "filter_2fg_partial = data[data['shot_type'] == separador]\n",
    "filter_3fg_partial = data[data['shot_type'] != separador]\n",
    "\n",
    "filter_2fg = filter_2fg_partial[['lat',\n",
    "                                     'lon',\n",
    "                                     'minutes_remaining',\n",
    "                                     'period',\n",
    "                                     'playoffs',\n",
    "                                     'shot_distance',\n",
    "                                     'shot_made_flag']]\n",
    "filter_3fg = filter_3fg_partial[['lat',\n",
    "                                     'lon',\n",
    "                                     'minutes_remaining',\n",
    "                                     'period',\n",
    "                                     'playoffs',\n",
    "                                     'shot_distance',\n",
    "                                     'shot_made_flag']]\n",
    "\n",
    "filter_2fg = filter_2fg.dropna()\n",
    "filter_3fg = filter_3fg.dropna()"
   ]
  },
  {
   "cell_type": "code",
   "execution_count": null,
   "metadata": {},
   "outputs": [],
   "source": [
    "filter_2fg"
   ]
  },
  {
   "cell_type": "code",
   "execution_count": null,
   "metadata": {},
   "outputs": [],
   "source": [
    "X = filter_2fg.loc[:, filter_2fg.columns != 'shot_made_flag']\n",
    "X"
   ]
  },
  {
   "cell_type": "code",
   "execution_count": null,
   "metadata": {},
   "outputs": [],
   "source": [
    "y = filter_2fg.loc[:, filter_2fg.columns == 'shot_made_flag']\n",
    "y"
   ]
  },
  {
   "cell_type": "code",
   "execution_count": null,
   "metadata": {},
   "outputs": [],
   "source": [
    "filter_3fg = filter_3fg.dropna()\n",
    "filter_3fg"
   ]
  },
  {
   "cell_type": "code",
   "execution_count": 21,
   "metadata": {},
   "outputs": [
    {
     "name": "stdout",
     "output_type": "stream",
     "text": [
      "{'X_test_rows': {'value': 4057, 'step': 1}, 'X_test_cols': {'value': 6, 'step': 2}, 'X_train_rows': {'value': 16228, 'step': 3}, 'X_train_cols': {'value': 6, 'step': 4}}\n",
      "{'X_test_rows': {'value': 4057, 'step': 1}, 'X_test_cols': {'value': 6, 'step': 2}, 'X_train_rows': {'value': 16228, 'step': 3}, 'X_train_cols': {'value': 6, 'step': 4}}\n"
     ]
    }
   ],
   "source": [
    "def metrics(X_test, X_train):\n",
    "    metrics = {\n",
    "        'X_test_rows': {'value':X_test.shape[0], 'step':1},\n",
    "        'X_test_cols': {'value':X_test.shape[1], 'step':2},\n",
    "        'X_train_rows': {'value':X_train.shape[0], 'step':3},\n",
    "        'X_train_cols': {'value':X_train.shape[1], 'step':4}\n",
    "    }\n",
    "    print(metrics)\n",
    "\n",
    "    return {\n",
    "       'X_test_rows': {'value':X_test.shape[0], 'step':1},\n",
    "        'X_test_cols': {'value':X_test.shape[1], 'step':2},\n",
    "        'X_train_rows': {'value':X_train.shape[0], 'step':3},\n",
    "        'X_train_cols': {'value':X_train.shape[1], 'step':4}\n",
    "    }\n",
    "\n",
    "X_test = pd.read_parquet('../data/04_feature/X_test_data.parquet')\n",
    "X_train = pd.read_parquet('../data/04_feature/X_train_data.parquet')\n",
    "y_test = pd.read_parquet('../data/04_feature/y_test_data.parquet')\n",
    "y_train = pd.read_parquet('../data/04_feature/y_train_data.parquet')\n",
    "\n",
    "retorno = metrics(X_test,X_train)\n",
    "print(retorno)"
   ]
  },
  {
   "cell_type": "code",
   "execution_count": null,
   "metadata": {},
   "outputs": [],
   "source": []
  }
 ],
 "metadata": {
  "kernelspec": {
   "display_name": "venv",
   "language": "python",
   "name": "python3"
  },
  "language_info": {
   "codemirror_mode": {
    "name": "ipython",
    "version": 3
   },
   "file_extension": ".py",
   "mimetype": "text/x-python",
   "name": "python",
   "nbconvert_exporter": "python",
   "pygments_lexer": "ipython3",
   "version": "3.10.8"
  },
  "orig_nbformat": 4,
  "vscode": {
   "interpreter": {
    "hash": "599cc30dd0c39f644c81f5415222db9c83fcaea32431ff4bd8ac019c8890800a"
   }
  }
 },
 "nbformat": 4,
 "nbformat_minor": 2
}
